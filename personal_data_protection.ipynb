{
 "cells": [
  {
   "cell_type": "markdown",
   "metadata": {},
   "source": [
    "# Protection of personal data of clients"
   ]
  },
  {
   "cell_type": "markdown",
   "metadata": {},
   "source": [
    "You need to protect the data of the insurance company's customers. To develop such a method of data transformation so that it would be difficult to recover personal information from them. Justify the correctness of his work.\n",
    "\n",
    "It is necessary to protect the data so that the quality of machine learning models does not deteriorate during conversion. It is not necessary to select the best model."
   ]
  },
  {
   "cell_type": "markdown",
   "metadata": {},
   "source": [
    "## Data import and preprocessing"
   ]
  },
  {
   "cell_type": "markdown",
   "metadata": {},
   "source": [
    "### Import"
   ]
  },
  {
   "cell_type": "code",
   "execution_count": 43,
   "metadata": {},
   "outputs": [],
   "source": [
    "import pandas as pd\n",
    "import matplotlib.pyplot as plt\n",
    "import seaborn as sns\n",
    "import numpy as np\n",
    "\n",
    "pd.set_option(\"display.max_columns\", None)\n",
    "pd.set_option(\"display.float_format\", \"{:,.2f}\".format)\n",
    "\n",
    "import sklearn\n",
    "from sklearn.linear_model import LinearRegression\n",
    "from sklearn.preprocessing import StandardScaler\n",
    "from sklearn.metrics import r2_score\n",
    "\n",
    "import warnings\n",
    "warnings.filterwarnings('ignore')"
   ]
  },
  {
   "cell_type": "markdown",
   "metadata": {},
   "source": [
    "### Data"
   ]
  },
  {
   "cell_type": "code",
   "execution_count": 44,
   "metadata": {},
   "outputs": [
    {
     "name": "stdout",
     "output_type": "stream",
     "text": [
      "<class 'pandas.core.frame.DataFrame'>\n",
      "RangeIndex: 5000 entries, 0 to 4999\n",
      "Data columns (total 5 columns):\n",
      " #   Column             Non-Null Count  Dtype  \n",
      "---  ------             --------------  -----  \n",
      " 0   Пол                5000 non-null   int64  \n",
      " 1   Возраст            5000 non-null   float64\n",
      " 2   Зарплата           5000 non-null   float64\n",
      " 3   Члены семьи        5000 non-null   int64  \n",
      " 4   Страховые выплаты  5000 non-null   int64  \n",
      "dtypes: float64(2), int64(3)\n",
      "memory usage: 195.4 KB\n"
     ]
    },
    {
     "data": {
      "text/html": [
       "<div>\n",
       "<style scoped>\n",
       "    .dataframe tbody tr th:only-of-type {\n",
       "        vertical-align: middle;\n",
       "    }\n",
       "\n",
       "    .dataframe tbody tr th {\n",
       "        vertical-align: top;\n",
       "    }\n",
       "\n",
       "    .dataframe thead th {\n",
       "        text-align: right;\n",
       "    }\n",
       "</style>\n",
       "<table border=\"1\" class=\"dataframe\">\n",
       "  <thead>\n",
       "    <tr style=\"text-align: right;\">\n",
       "      <th></th>\n",
       "      <th>Пол</th>\n",
       "      <th>Возраст</th>\n",
       "      <th>Зарплата</th>\n",
       "      <th>Члены семьи</th>\n",
       "      <th>Страховые выплаты</th>\n",
       "    </tr>\n",
       "  </thead>\n",
       "  <tbody>\n",
       "    <tr>\n",
       "      <th>0</th>\n",
       "      <td>1</td>\n",
       "      <td>41.00</td>\n",
       "      <td>49,600.00</td>\n",
       "      <td>1</td>\n",
       "      <td>0</td>\n",
       "    </tr>\n",
       "    <tr>\n",
       "      <th>1</th>\n",
       "      <td>0</td>\n",
       "      <td>46.00</td>\n",
       "      <td>38,000.00</td>\n",
       "      <td>1</td>\n",
       "      <td>1</td>\n",
       "    </tr>\n",
       "    <tr>\n",
       "      <th>2</th>\n",
       "      <td>0</td>\n",
       "      <td>29.00</td>\n",
       "      <td>21,000.00</td>\n",
       "      <td>0</td>\n",
       "      <td>0</td>\n",
       "    </tr>\n",
       "    <tr>\n",
       "      <th>3</th>\n",
       "      <td>0</td>\n",
       "      <td>21.00</td>\n",
       "      <td>41,700.00</td>\n",
       "      <td>2</td>\n",
       "      <td>0</td>\n",
       "    </tr>\n",
       "  </tbody>\n",
       "</table>\n",
       "</div>"
      ],
      "text/plain": [
       "   Пол  Возраст  Зарплата  Члены семьи  Страховые выплаты\n",
       "0    1    41.00 49,600.00            1                  0\n",
       "1    0    46.00 38,000.00            1                  1\n",
       "2    0    29.00 21,000.00            0                  0\n",
       "3    0    21.00 41,700.00            2                  0"
      ]
     },
     "execution_count": 44,
     "metadata": {},
     "output_type": "execute_result"
    }
   ],
   "source": [
    "df = pd.read_csv('insurance.csv')\n",
    "\n",
    "df.info()\n",
    "df[:4]"
   ]
  },
  {
   "cell_type": "markdown",
   "metadata": {},
   "source": [
    "### Preprocessing"
   ]
  },
  {
   "cell_type": "code",
   "execution_count": 45,
   "metadata": {},
   "outputs": [],
   "source": [
    "# Let's bring the columns to the snake register\n",
    "df = df.rename(\n",
    "    columns={\n",
    "    'Пол':'sex', \n",
    "    'Возраст':'age', \n",
    "    'Зарплата':'salary', \n",
    "    'Члены семьи':'family_members', \n",
    "    'Страховые выплаты':'insurance_payments'\n",
    "}\n",
    "  )"
   ]
  },
  {
   "cell_type": "markdown",
   "metadata": {},
   "source": [
    "### Pairplot"
   ]
  },
  {
   "cell_type": "markdown",
   "metadata": {},
   "source": [
    "Let's build a steamplot to make sure once again that we do not have multicollinearity (the correlation matrix is in the profile)"
   ]
  },
  {
   "cell_type": "code",
   "execution_count": 46,
   "metadata": {
    "scrolled": false
   },
   "outputs": [
    {
     "data": {
      "image/png": "[encoded data removed]",
      "text/plain": [
       "<Figure size 1154.99x1000 with 20 Axes>"
      ]
     },
     "metadata": {},
     "output_type": "display_data"
    }
   ],
   "source": [
    "sns.pairplot(df, hue='insurance_payments', palette='coolwarm');"
   ]
  },
  {
   "cell_type": "code",
   "execution_count": 47,
   "metadata": {
    "scrolled": true
   },
   "outputs": [
    {
     "data": {
      "text/html": [
       "<div>\n",
       "<style scoped>\n",
       "    .dataframe tbody tr th:only-of-type {\n",
       "        vertical-align: middle;\n",
       "    }\n",
       "\n",
       "    .dataframe tbody tr th {\n",
       "        vertical-align: top;\n",
       "    }\n",
       "\n",
       "    .dataframe thead th {\n",
       "        text-align: right;\n",
       "    }\n",
       "</style>\n",
       "<table border=\"1\" class=\"dataframe\">\n",
       "  <thead>\n",
       "    <tr style=\"text-align: right;\">\n",
       "      <th></th>\n",
       "      <th>sex</th>\n",
       "      <th>age</th>\n",
       "      <th>salary</th>\n",
       "      <th>family_members</th>\n",
       "      <th>insurance_payments</th>\n",
       "    </tr>\n",
       "  </thead>\n",
       "  <tbody>\n",
       "    <tr>\n",
       "      <th>2955</th>\n",
       "      <td>1</td>\n",
       "      <td>32.00</td>\n",
       "      <td>21,600.00</td>\n",
       "      <td>0</td>\n",
       "      <td>0</td>\n",
       "    </tr>\n",
       "    <tr>\n",
       "      <th>2988</th>\n",
       "      <td>1</td>\n",
       "      <td>32.00</td>\n",
       "      <td>21,600.00</td>\n",
       "      <td>0</td>\n",
       "      <td>0</td>\n",
       "    </tr>\n",
       "    <tr>\n",
       "      <th>361</th>\n",
       "      <td>0</td>\n",
       "      <td>50.00</td>\n",
       "      <td>24,700.00</td>\n",
       "      <td>1</td>\n",
       "      <td>2</td>\n",
       "    </tr>\n",
       "    <tr>\n",
       "      <th>2869</th>\n",
       "      <td>0</td>\n",
       "      <td>50.00</td>\n",
       "      <td>24,700.00</td>\n",
       "      <td>1</td>\n",
       "      <td>2</td>\n",
       "    </tr>\n",
       "    <tr>\n",
       "      <th>333</th>\n",
       "      <td>0</td>\n",
       "      <td>32.00</td>\n",
       "      <td>25,600.00</td>\n",
       "      <td>1</td>\n",
       "      <td>0</td>\n",
       "    </tr>\n",
       "    <tr>\n",
       "      <th>4230</th>\n",
       "      <td>0</td>\n",
       "      <td>32.00</td>\n",
       "      <td>25,600.00</td>\n",
       "      <td>1</td>\n",
       "      <td>0</td>\n",
       "    </tr>\n",
       "    <tr>\n",
       "      <th>1378</th>\n",
       "      <td>0</td>\n",
       "      <td>36.00</td>\n",
       "      <td>26,400.00</td>\n",
       "      <td>0</td>\n",
       "      <td>0</td>\n",
       "    </tr>\n",
       "    <tr>\n",
       "      <th>2723</th>\n",
       "      <td>0</td>\n",
       "      <td>36.00</td>\n",
       "      <td>26,400.00</td>\n",
       "      <td>0</td>\n",
       "      <td>0</td>\n",
       "    </tr>\n",
       "    <tr>\n",
       "      <th>1002</th>\n",
       "      <td>1</td>\n",
       "      <td>34.00</td>\n",
       "      <td>26,900.00</td>\n",
       "      <td>0</td>\n",
       "      <td>0</td>\n",
       "    </tr>\n",
       "    <tr>\n",
       "      <th>1140</th>\n",
       "      <td>1</td>\n",
       "      <td>34.00</td>\n",
       "      <td>26,900.00</td>\n",
       "      <td>0</td>\n",
       "      <td>0</td>\n",
       "    </tr>\n",
       "    <tr>\n",
       "      <th>1678</th>\n",
       "      <td>1</td>\n",
       "      <td>31.00</td>\n",
       "      <td>27,900.00</td>\n",
       "      <td>1</td>\n",
       "      <td>0</td>\n",
       "    </tr>\n",
       "    <tr>\n",
       "      <th>2565</th>\n",
       "      <td>1</td>\n",
       "      <td>31.00</td>\n",
       "      <td>27,900.00</td>\n",
       "      <td>1</td>\n",
       "      <td>0</td>\n",
       "    </tr>\n",
       "    <tr>\n",
       "      <th>471</th>\n",
       "      <td>1</td>\n",
       "      <td>30.00</td>\n",
       "      <td>28,200.00</td>\n",
       "      <td>0</td>\n",
       "      <td>0</td>\n",
       "    </tr>\n",
       "    <tr>\n",
       "      <th>3315</th>\n",
       "      <td>1</td>\n",
       "      <td>30.00</td>\n",
       "      <td>28,200.00</td>\n",
       "      <td>0</td>\n",
       "      <td>0</td>\n",
       "    </tr>\n",
       "    <tr>\n",
       "      <th>720</th>\n",
       "      <td>0</td>\n",
       "      <td>25.00</td>\n",
       "      <td>28,300.00</td>\n",
       "      <td>0</td>\n",
       "      <td>0</td>\n",
       "    </tr>\n",
       "    <tr>\n",
       "      <th>2501</th>\n",
       "      <td>0</td>\n",
       "      <td>25.00</td>\n",
       "      <td>28,300.00</td>\n",
       "      <td>0</td>\n",
       "      <td>0</td>\n",
       "    </tr>\n",
       "    <tr>\n",
       "      <th>3119</th>\n",
       "      <td>1</td>\n",
       "      <td>31.00</td>\n",
       "      <td>28,400.00</td>\n",
       "      <td>1</td>\n",
       "      <td>0</td>\n",
       "    </tr>\n",
       "    <tr>\n",
       "      <th>4189</th>\n",
       "      <td>1</td>\n",
       "      <td>31.00</td>\n",
       "      <td>28,400.00</td>\n",
       "      <td>1</td>\n",
       "      <td>0</td>\n",
       "    </tr>\n",
       "    <tr>\n",
       "      <th>3333</th>\n",
       "      <td>0</td>\n",
       "      <td>36.00</td>\n",
       "      <td>29,700.00</td>\n",
       "      <td>2</td>\n",
       "      <td>0</td>\n",
       "    </tr>\n",
       "    <tr>\n",
       "      <th>2519</th>\n",
       "      <td>0</td>\n",
       "      <td>36.00</td>\n",
       "      <td>29,700.00</td>\n",
       "      <td>2</td>\n",
       "      <td>0</td>\n",
       "    </tr>\n",
       "    <tr>\n",
       "      <th>2274</th>\n",
       "      <td>1</td>\n",
       "      <td>41.00</td>\n",
       "      <td>30,200.00</td>\n",
       "      <td>0</td>\n",
       "      <td>0</td>\n",
       "    </tr>\n",
       "    <tr>\n",
       "      <th>1093</th>\n",
       "      <td>1</td>\n",
       "      <td>41.00</td>\n",
       "      <td>30,200.00</td>\n",
       "      <td>0</td>\n",
       "      <td>0</td>\n",
       "    </tr>\n",
       "    <tr>\n",
       "      <th>947</th>\n",
       "      <td>1</td>\n",
       "      <td>37.00</td>\n",
       "      <td>31,200.00</td>\n",
       "      <td>2</td>\n",
       "      <td>0</td>\n",
       "    </tr>\n",
       "    <tr>\n",
       "      <th>1251</th>\n",
       "      <td>1</td>\n",
       "      <td>37.00</td>\n",
       "      <td>31,200.00</td>\n",
       "      <td>2</td>\n",
       "      <td>0</td>\n",
       "    </tr>\n",
       "    <tr>\n",
       "      <th>1255</th>\n",
       "      <td>0</td>\n",
       "      <td>30.00</td>\n",
       "      <td>31,400.00</td>\n",
       "      <td>2</td>\n",
       "      <td>0</td>\n",
       "    </tr>\n",
       "    <tr>\n",
       "      <th>1487</th>\n",
       "      <td>0</td>\n",
       "      <td>38.00</td>\n",
       "      <td>31,400.00</td>\n",
       "      <td>1</td>\n",
       "      <td>0</td>\n",
       "    </tr>\n",
       "    <tr>\n",
       "      <th>4764</th>\n",
       "      <td>0</td>\n",
       "      <td>30.00</td>\n",
       "      <td>31,400.00</td>\n",
       "      <td>2</td>\n",
       "      <td>0</td>\n",
       "    </tr>\n",
       "    <tr>\n",
       "      <th>4202</th>\n",
       "      <td>0</td>\n",
       "      <td>38.00</td>\n",
       "      <td>31,400.00</td>\n",
       "      <td>1</td>\n",
       "      <td>0</td>\n",
       "    </tr>\n",
       "    <tr>\n",
       "      <th>2175</th>\n",
       "      <td>0</td>\n",
       "      <td>36.00</td>\n",
       "      <td>31,500.00</td>\n",
       "      <td>2</td>\n",
       "      <td>0</td>\n",
       "    </tr>\n",
       "    <tr>\n",
       "      <th>4239</th>\n",
       "      <td>0</td>\n",
       "      <td>36.00</td>\n",
       "      <td>31,500.00</td>\n",
       "      <td>2</td>\n",
       "      <td>0</td>\n",
       "    </tr>\n",
       "  </tbody>\n",
       "</table>\n",
       "</div>"
      ],
      "text/plain": [
       "      sex   age    salary  family_members  insurance_payments\n",
       "2955    1 32.00 21,600.00               0                   0\n",
       "2988    1 32.00 21,600.00               0                   0\n",
       "361     0 50.00 24,700.00               1                   2\n",
       "2869    0 50.00 24,700.00               1                   2\n",
       "333     0 32.00 25,600.00               1                   0\n",
       "4230    0 32.00 25,600.00               1                   0\n",
       "1378    0 36.00 26,400.00               0                   0\n",
       "2723    0 36.00 26,400.00               0                   0\n",
       "1002    1 34.00 26,900.00               0                   0\n",
       "1140    1 34.00 26,900.00               0                   0\n",
       "1678    1 31.00 27,900.00               1                   0\n",
       "2565    1 31.00 27,900.00               1                   0\n",
       "471     1 30.00 28,200.00               0                   0\n",
       "3315    1 30.00 28,200.00               0                   0\n",
       "720     0 25.00 28,300.00               0                   0\n",
       "2501    0 25.00 28,300.00               0                   0\n",
       "3119    1 31.00 28,400.00               1                   0\n",
       "4189    1 31.00 28,400.00               1                   0\n",
       "3333    0 36.00 29,700.00               2                   0\n",
       "2519    0 36.00 29,700.00               2                   0\n",
       "2274    1 41.00 30,200.00               0                   0\n",
       "1093    1 41.00 30,200.00               0                   0\n",
       "947     1 37.00 31,200.00               2                   0\n",
       "1251    1 37.00 31,200.00               2                   0\n",
       "1255    0 30.00 31,400.00               2                   0\n",
       "1487    0 38.00 31,400.00               1                   0\n",
       "4764    0 30.00 31,400.00               2                   0\n",
       "4202    0 38.00 31,400.00               1                   0\n",
       "2175    0 36.00 31,500.00               2                   0\n",
       "4239    0 36.00 31,500.00               2                   0"
      ]
     },
     "execution_count": 47,
     "metadata": {},
     "output_type": "execute_result"
    }
   ],
   "source": [
    "# Consider duplicates throughout the dataset\n",
    "df.loc[df.duplicated(keep=False)].sort_values(by='salary')[:30]"
   ]
  },
  {
   "cell_type": "code",
   "execution_count": 48,
   "metadata": {},
   "outputs": [],
   "source": [
    "df = df.drop_duplicates().reset_index(drop=True)"
   ]
  },
  {
   "cell_type": "markdown",
   "metadata": {},
   "source": [
    "<b><span style='color:#16C2D5'>|</span> Conclusions: </b>\n",
    "<br>\n",
    "\n",
    "Since the repetitions in our case go according to all parameters, we can safely say that the same person is on the repetitions. You can get rid of such data\n",
    "\n",
    "The presented dataset almost did not need preprocessing. We renamed only the columns, although we didn't have to, and made sure that duplicates could be deleted. According to pairplot not significant outliers are found. This completes the preprocessing.\n",
    "\n",
    "<br>"
   ]
  },
  {
   "cell_type": "markdown",
   "metadata": {},
   "source": [
    "## Matrix multiplication"
   ]
  },
  {
   "cell_type": "markdown",
   "metadata": {},
   "source": [
    "Predictions:\n",
    "\n",
    "$$\n",
    "a = Xw\n",
    "$$\n",
    "\n",
    "The task of learning:\n",
    "\n",
    "$$\n",
    "w = \\arg\\min_w MSE(Xw, y)\n",
    "$$\n",
    "\n",
    "The learning formula:\n",
    "\n",
    "$$\n",
    "w = (X^T X)^{-1} X^T y\n",
    "$$"
   ]
  },
  {
   "cell_type": "markdown",
   "metadata": {},
   "source": [
    "### Split the data into training and target samples"
   ]
  },
  {
   "cell_type": "code",
   "execution_count": 49,
   "metadata": {},
   "outputs": [],
   "source": [
    "features = df.drop('insurance_payments', axis=1)\n",
    "target = df['insurance_payments']"
   ]
  },
  {
   "cell_type": "markdown",
   "metadata": {},
   "source": [
    "### Write a recursive function that outputs an invertible 4x4 matrix"
   ]
  },
  {
   "cell_type": "code",
   "execution_count": 50,
   "metadata": {},
   "outputs": [],
   "source": [
    "def invert():\n",
    "    s = np.random.normal(size=(4, 4))\n",
    "    try:\n",
    "        np.linalg.inv(s)\n",
    "        return s\n",
    "    except Exception:\n",
    "        invert()"
   ]
  },
  {
   "cell_type": "markdown",
   "metadata": {},
   "source": [
    "### Reproduce the linear regression"
   ]
  },
  {
   "cell_type": "code",
   "execution_count": 51,
   "metadata": {},
   "outputs": [],
   "source": [
    "class LinearRegression:\n",
    "    def fit(self, features, target):\n",
    "        X = np.concatenate((np.ones((len(features), 1)), features), axis=1)\n",
    "        y = target\n",
    "        w = np.linalg.inv(X.T @ X) @ X.T @ y\n",
    "        self.w = w[1:]\n",
    "        self.w0 = w[0]\n",
    "\n",
    "    def predict(self, test_features):\n",
    "        return test_features @ self.w + self.w0"
   ]
  },
  {
   "cell_type": "markdown",
   "metadata": {},
   "source": [
    "### Train the model and find the indicator R2 before the transformation"
   ]
  },
  {
   "cell_type": "code",
   "execution_count": 52,
   "metadata": {},
   "outputs": [
    {
     "name": "stdout",
     "output_type": "stream",
     "text": [
      "The indicator R2 before the conversion is equal to: 0.4302010044852068\n"
     ]
    }
   ],
   "source": [
    "model = LinearRegression()\n",
    "model.fit(features, target)\n",
    "predictions = model.predict(features)\n",
    "R2_before = r2_score(target, predictions)\n",
    "print('The indicator R2 before the conversion is equal to:', R2_before)"
   ]
  },
  {
   "cell_type": "markdown",
   "metadata": {},
   "source": [
    "### Train the model and find the R2 indicator after the transformation"
   ]
  },
  {
   "cell_type": "code",
   "execution_count": 53,
   "metadata": {
    "scrolled": true
   },
   "outputs": [
    {
     "name": "stdout",
     "output_type": "stream",
     "text": [
      "The indicator R2 after conversion is equal to: 0.4302010044852037\n"
     ]
    }
   ],
   "source": [
    "# Multiply the features by an invertible matrix\n",
    "new_features = features @ invert()\n",
    "\n",
    "# Let's repeat the search for the R2 parameter on the new features\n",
    "model = LinearRegression()\n",
    "model.fit(new_features, target)\n",
    "predictions = model.predict(new_features)\n",
    "R2_after = r2_score(target, predictions)\n",
    "print('The indicator R2 after conversion is equal to:', R2_after)"
   ]
  },
  {
   "cell_type": "markdown",
   "metadata": {},
   "source": [
    "### The final answer to the task and justification"
   ]
  },
  {
   "cell_type": "markdown",
   "metadata": {},
   "source": [
    "**Response:** **We checked the quality of the training of the features before and after the transformation (multiplied by the reversible matrix obtained randomly) through the coefficient of determination R2. The quality of the model remained at the same level.**\n",
    "\n",
    "**Justification:** **We justify the absence of changes in the quality of linear regression after its transformation (multiplication by an invertible matrix), where**\n",
    "- $a$ — prediction vector\n",
    "\n",
    "- $a1$ — prediction vector after multiplication by a matrix\n",
    "\n",
    "- $X$ — feature matrix (the zero column consists of units)\n",
    "\n",
    "- $X1$ — matrix of features after multiplication (the zero column consists of units)\n",
    "\n",
    "- $E$ is a unit matrix\n",
    "\n",
    "- $y$ — vector of the target feature\n",
    "\n",
    "- $P$ is the matrix by which the signs are multiplied\n",
    "\n",
    "- $w$ is a vector of linear regression weights (the zero element is equal to the shift)\n",
    "\n",
    "The prediction vector of linear regression has the form $$a = Xw$$ \n",
    "\n",
    "Let's prove that after multiplying by the matrix P, it will not have significant changes $$a1 = a$$\n",
    "\n",
    "Formula X1:\n",
    "$$ X1 = X P $$  \n",
    "\n",
    "Weight Formula: \n",
    "$$ w = (X^T X)^{-1} X^T y $$\n",
    "Substitute X1 into the weight formula after multiplication and perform the transformations:\n",
    "$$ w1 = ((XP)^T XP)^{-1} (XP)^T y  => $$\n",
    "$$ w1 = (P^T (X^T X) P)^{-1} P^T X^T y => $$\n",
    "$$ w1 = P^{-1} (X^T X)^{-1} (P^T)^{-1} P^T X^T y => $$\n",
    "$$ w1 = P^{-1} ((X^T X)^{-1}) E X^T y $$\n",
    "$$ w1 = P^{-1} w $$\n",
    "\n",
    "Substitute w1 into the formula of the linear regression prediction vector after multiplication and perform the transformations:\n",
    "\n",
    "$$ a1 = X1 w1 $$\n",
    "$$ a1 = X P P^{-1} w $$\n",
    "$$ a1 = X w $$\n",
    "Thus, we can conclude that $$a=a1$$\n",
    "\n",
    "**Which was required to be proved**"
   ]
  },
  {
   "cell_type": "markdown",
   "metadata": {},
   "source": [
    "## The conversion algorithm"
   ]
  },
  {
   "cell_type": "markdown",
   "metadata": {},
   "source": [
    "### To propose a variant of data transformations for the task and justify why the quality of predictions will not change"
   ]
  },
  {
   "cell_type": "markdown",
   "metadata": {},
   "source": [
    "*You can perform conversions using the StandartScaler or MinMaxScaler methods*\n",
    "\n",
    "*As an example, consider StandartScaler*"
   ]
  },
  {
   "cell_type": "code",
   "execution_count": 54,
   "metadata": {},
   "outputs": [],
   "source": [
    "# Let's create a copy of our feature before converting\n",
    "features_scaler = features.copy()\n",
    "\n",
    "# Let's create a list from the columns of our features\n",
    "numeric = list(features.columns)\n",
    "\n",
    "# Let's perform the transformations using the StandartScaler method\n",
    "scaler = StandardScaler()\n",
    "scaler.fit(features_scaler[numeric])\n",
    "features_scaler[numeric] = scaler.transform(features_scaler[numeric])"
   ]
  },
  {
   "cell_type": "code",
   "execution_count": 55,
   "metadata": {
    "scrolled": true
   },
   "outputs": [
    {
     "name": "stdout",
     "output_type": "stream",
     "text": [
      "The indicator R2 for the Standard Scale r method is equal to: 0.4302010044852068\n"
     ]
    }
   ],
   "source": [
    "# Let's train the model after the transformation\n",
    "model = LinearRegression()\n",
    "model.fit(features_scaler, target)\n",
    "predictions = model.predict(features_scaler)\n",
    "R2_scaler = r2_score(target, predictions)\n",
    "print('The indicator R2 for the Standard Scale r method is equal to:', R2_scaler)"
   ]
  },
  {
   "cell_type": "markdown",
   "metadata": {},
   "source": [
    "The Standard Scaler formula has the form $$z = (x - u) / s$$\n",
    "\n",
    "Where\n",
    "- $x$ is a variable attribute\n",
    "\n",
    "- $u$ is the average value of this attribute\n",
    "\n",
    "- $s$ — standard deviation"
   ]
  },
  {
   "cell_type": "markdown",
   "metadata": {},
   "source": [
    "### Create a function that will reproduce the StandartScaler"
   ]
  },
  {
   "cell_type": "code",
   "execution_count": 56,
   "metadata": {},
   "outputs": [],
   "source": [
    "def standart_scaler(X):\n",
    "    u = np.mean(X)\n",
    "    s = np.std(X)\n",
    "    new = []\n",
    "    for i in range(len(X)):  \n",
    "        vector=[]\n",
    "        for j in range(len(X.columns)):  \n",
    "            vector.append(\n",
    "                (np.array(X)[i,j] - u[j]) / s[j])\n",
    "        new.append(np.nan_to_num(vector))\n",
    "    new = np.array(new)\n",
    "    return new"
   ]
  },
  {
   "cell_type": "code",
   "execution_count": 57,
   "metadata": {
    "scrolled": true
   },
   "outputs": [
    {
     "name": "stdout",
     "output_type": "stream",
     "text": [
      "The R2 indicator for the StandartScaler method is: 0.4302010044852068\n"
     ]
    }
   ],
   "source": [
    "# get preprocessed frame \n",
    "features_scaler_new = standart_scaler(features)\n",
    "\n",
    "# Let's train the model after the transformation\n",
    "model = LinearRegression()\n",
    "model.fit(features_scaler_new, target)\n",
    "predictions = model.predict(features_scaler_new)\n",
    "R2_scaler_new = r2_score(target, predictions)\n",
    "print('The R2 indicator for the StandartScaler method is:', R2_scaler_new)"
   ]
  },
  {
   "cell_type": "markdown",
   "metadata": {},
   "source": [
    "### Compare the arrays after the regular StandartScaler and after our manual one in the form of a function"
   ]
  },
  {
   "cell_type": "code",
   "execution_count": 58,
   "metadata": {},
   "outputs": [
    {
     "data": {
      "text/plain": [
       "array([[ 1.0030995 ,  1.1754362 ,  0.97315092, -0.18517565],\n",
       "       [-0.99691008,  1.76456423, -0.19011493, -0.18517565],\n",
       "       [-0.99691008, -0.23847105, -1.89490109, -1.09546611],\n",
       "       ...,\n",
       "       [-0.99691008, -1.29890149, -0.60126924,  0.7251148 ],\n",
       "       [ 1.0030995 , -1.06325028, -0.72160708,  1.63540526],\n",
       "       [ 1.0030995 , -0.35629665,  0.07061707, -0.18517565]])"
      ]
     },
     "execution_count": 58,
     "metadata": {},
     "output_type": "execute_result"
    }
   ],
   "source": [
    "# Our created StandartScaler from the function\n",
    "features_scaler_new"
   ]
  },
  {
   "cell_type": "code",
   "execution_count": 59,
   "metadata": {},
   "outputs": [
    {
     "data": {
      "text/plain": [
       "array([[ 1.0030995 ,  1.1754362 ,  0.97315092, -0.18517565],\n",
       "       [-0.99691008,  1.76456423, -0.19011493, -0.18517565],\n",
       "       [-0.99691008, -0.23847105, -1.89490109, -1.09546611],\n",
       "       ...,\n",
       "       [-0.99691008, -1.29890149, -0.60126924,  0.7251148 ],\n",
       "       [ 1.0030995 , -1.06325028, -0.72160708,  1.63540526],\n",
       "       [ 1.0030995 , -0.35629665,  0.07061707, -0.18517565]])"
      ]
     },
     "execution_count": 59,
     "metadata": {},
     "output_type": "execute_result"
    }
   ],
   "source": [
    "# Regular StandartScaler\n",
    "np.array(features_scaler)"
   ]
  },
  {
   "cell_type": "markdown",
   "metadata": {},
   "source": [
    "*As we can see, they are identical*"
   ]
  },
  {
   "cell_type": "markdown",
   "metadata": {},
   "source": [
    "## Check algorithm"
   ]
  },
  {
   "cell_type": "markdown",
   "metadata": {},
   "source": [
    "### Compare the R2 values before multiplying by the reversible matrix and after"
   ]
  },
  {
   "cell_type": "code",
   "execution_count": 60,
   "metadata": {},
   "outputs": [
    {
     "data": {
      "text/plain": [
       "False"
      ]
     },
     "execution_count": 60,
     "metadata": {},
     "output_type": "execute_result"
    }
   ],
   "source": [
    "R2_before < R2_after"
   ]
  },
  {
   "cell_type": "markdown",
   "metadata": {},
   "source": [
    "### Compare the R2 indicators before the StandardScaler conversion and after"
   ]
  },
  {
   "cell_type": "markdown",
   "metadata": {},
   "source": [
    "*UPD: comparing R2 indicators between the standard StandartScaler and the StandartScaler from the manual function does not make sense, since we have already made sure that the arrays are completely identical, and therefore all other indicators will be identical. So for comparison, you can take any of them*"
   ]
  },
  {
   "cell_type": "code",
   "execution_count": 61,
   "metadata": {},
   "outputs": [
    {
     "data": {
      "text/plain": [
       "True"
      ]
     },
     "execution_count": 61,
     "metadata": {},
     "output_type": "execute_result"
    }
   ],
   "source": [
    "R2_before == R2_scaler_new"
   ]
  },
  {
   "cell_type": "markdown",
   "metadata": {},
   "source": [
    "**In both cases, the indicators are equal**"
   ]
  },
  {
   "cell_type": "markdown",
   "metadata": {},
   "source": [
    "## Conclusion"
   ]
  },
  {
   "cell_type": "markdown",
   "metadata": {},
   "source": [
    "**We have uploaded the dataset and preprocessed the data. Next, we conducted research to answer the question \"will the quality of linear regression change when multiplied by an invertible matrix?\". First, we did this experimentally and saw that the coefficient of determination remained at the same level in the indicator. Next, we justified our conclusion by converting formulas, which gave us an accurate answer that the quality of regression will remain at the same level. After that, two ways of converting features without loss of prediction quality were proposed. These are the StandartScaler or MinMaxScaler methods. We conducted the research work on StandartScaler. We have changed the features in a standard way and through a function (so that we can compare and make sure that we did not make a mistake in the formula) after that, the resulting array was trained again and the R2 metric was pulled out. It also did not affect the quality of the regression. Thus, with the help of transformations, we do not lose quality, but at the same time, if our data falls into the wrong hands, they will turn out to be useless, therefore we can say that they are sufficiently protected.**"
   ]
  }
 ],
 "metadata": {
  "ExecuteTimeLog": [
   {
    "duration": 1554,
    "start_time": "2022-12-05T15:37:19.651Z"
   },
   {
    "duration": 2,
    "start_time": "2022-12-05T15:37:21.207Z"
   },
   {
    "duration": 119,
    "start_time": "2022-12-05T15:40:34.434Z"
   },
   {
    "duration": 6,
    "start_time": "2022-12-05T15:40:44.571Z"
   },
   {
    "duration": 2,
    "start_time": "2022-12-05T15:40:44.862Z"
   },
   {
    "duration": 13594,
    "start_time": "2022-12-05T15:40:45.314Z"
   },
   {
    "duration": 108,
    "start_time": "2022-12-05T15:40:58.910Z"
   },
   {
    "duration": 7167,
    "start_time": "2022-12-05T15:41:07.858Z"
   },
   {
    "duration": 10,
    "start_time": "2022-12-05T15:41:32.502Z"
   },
   {
    "duration": 4,
    "start_time": "2022-12-05T15:48:07.115Z"
   },
   {
    "duration": 11,
    "start_time": "2022-12-05T15:48:59.345Z"
   },
   {
    "duration": 2134,
    "start_time": "2022-12-05T16:02:59.793Z"
   },
   {
    "duration": 2,
    "start_time": "2022-12-05T16:03:01.929Z"
   },
   {
    "duration": 8,
    "start_time": "2022-12-05T16:03:01.933Z"
   },
   {
    "duration": 36,
    "start_time": "2022-12-05T16:03:01.943Z"
   },
   {
    "duration": 2,
    "start_time": "2022-12-05T16:03:01.981Z"
   },
   {
    "duration": 25,
    "start_time": "2022-12-05T16:03:01.985Z"
   },
   {
    "duration": 12,
    "start_time": "2022-12-05T16:03:02.011Z"
   },
   {
    "duration": 11,
    "start_time": "2022-12-05T16:03:02.024Z"
   },
   {
    "duration": 16,
    "start_time": "2022-12-05T16:03:02.036Z"
   },
   {
    "duration": 15,
    "start_time": "2022-12-05T16:03:02.054Z"
   },
   {
    "duration": 100,
    "start_time": "2022-12-05T16:08:41.471Z"
   },
   {
    "duration": 82,
    "start_time": "2022-12-05T16:08:45.335Z"
   },
   {
    "duration": 9,
    "start_time": "2022-12-05T16:08:45.647Z"
   },
   {
    "duration": 85,
    "start_time": "2022-12-05T16:08:51.399Z"
   },
   {
    "duration": 9,
    "start_time": "2022-12-05T16:12:00.136Z"
   },
   {
    "duration": 8,
    "start_time": "2022-12-05T16:12:03.340Z"
   },
   {
    "duration": 29,
    "start_time": "2022-12-05T16:28:24.571Z"
   },
   {
    "duration": 16,
    "start_time": "2022-12-05T16:30:26.071Z"
   },
   {
    "duration": 4,
    "start_time": "2022-12-05T16:30:37.635Z"
   },
   {
    "duration": 7,
    "start_time": "2022-12-05T16:30:38.673Z"
   },
   {
    "duration": 12,
    "start_time": "2022-12-05T16:30:39.388Z"
   },
   {
    "duration": 5,
    "start_time": "2022-12-05T16:32:24.332Z"
   },
   {
    "duration": 3,
    "start_time": "2022-12-05T16:38:12.318Z"
   },
   {
    "duration": 4,
    "start_time": "2022-12-05T16:53:15.134Z"
   },
   {
    "duration": 5,
    "start_time": "2022-12-05T17:07:34.797Z"
   },
   {
    "duration": 3,
    "start_time": "2022-12-05T17:11:33.765Z"
   },
   {
    "duration": 4,
    "start_time": "2022-12-05T17:11:38.491Z"
   },
   {
    "duration": 4,
    "start_time": "2022-12-05T17:11:49.323Z"
   },
   {
    "duration": 5,
    "start_time": "2022-12-05T17:11:57.798Z"
   },
   {
    "duration": 5,
    "start_time": "2022-12-05T17:12:06.673Z"
   },
   {
    "duration": 49,
    "start_time": "2022-12-06T10:27:39.593Z"
   },
   {
    "duration": 1605,
    "start_time": "2022-12-06T10:27:42.696Z"
   },
   {
    "duration": 7,
    "start_time": "2022-12-06T10:27:44.303Z"
   },
   {
    "duration": 10,
    "start_time": "2022-12-06T10:27:44.316Z"
   },
   {
    "duration": 115,
    "start_time": "2022-12-06T10:27:44.327Z"
   },
   {
    "duration": 3,
    "start_time": "2022-12-06T10:27:44.444Z"
   },
   {
    "duration": 17,
    "start_time": "2022-12-06T10:27:44.448Z"
   },
   {
    "duration": 41,
    "start_time": "2022-12-06T10:27:44.467Z"
   },
   {
    "duration": 6,
    "start_time": "2022-12-06T10:27:44.514Z"
   },
   {
    "duration": 10,
    "start_time": "2022-12-06T10:27:44.522Z"
   },
   {
    "duration": 13,
    "start_time": "2022-12-06T10:27:44.533Z"
   },
   {
    "duration": 6,
    "start_time": "2022-12-06T10:27:44.547Z"
   },
   {
    "duration": 5,
    "start_time": "2022-12-06T10:27:44.554Z"
   },
   {
    "duration": 6,
    "start_time": "2022-12-06T10:27:44.606Z"
   },
   {
    "duration": 5,
    "start_time": "2022-12-06T10:27:44.620Z"
   },
   {
    "duration": 7,
    "start_time": "2022-12-06T10:27:44.627Z"
   },
   {
    "duration": 4,
    "start_time": "2022-12-06T10:27:44.635Z"
   },
   {
    "duration": 5,
    "start_time": "2022-12-06T10:27:44.641Z"
   },
   {
    "duration": 9,
    "start_time": "2022-12-06T10:30:05.231Z"
   },
   {
    "duration": 7,
    "start_time": "2022-12-06T10:30:16.991Z"
   },
   {
    "duration": 5,
    "start_time": "2022-12-06T10:30:30.051Z"
   },
   {
    "duration": 3,
    "start_time": "2022-12-06T10:30:30.164Z"
   },
   {
    "duration": 2,
    "start_time": "2022-12-06T10:30:30.316Z"
   },
   {
    "duration": 28,
    "start_time": "2022-12-06T10:30:30.382Z"
   },
   {
    "duration": 2,
    "start_time": "2022-12-06T10:30:30.641Z"
   },
   {
    "duration": 9,
    "start_time": "2022-12-06T10:30:30.810Z"
   },
   {
    "duration": 75,
    "start_time": "2022-12-06T10:30:30.821Z"
   },
   {
    "duration": 3,
    "start_time": "2022-12-06T10:30:30.956Z"
   },
   {
    "duration": 12,
    "start_time": "2022-12-06T10:30:31.032Z"
   },
   {
    "duration": 12,
    "start_time": "2022-12-06T10:30:32.931Z"
   },
   {
    "duration": 12,
    "start_time": "2022-12-06T10:30:32.945Z"
   },
   {
    "duration": 5,
    "start_time": "2022-12-06T10:30:32.958Z"
   },
   {
    "duration": 5,
    "start_time": "2022-12-06T10:30:32.964Z"
   },
   {
    "duration": 6,
    "start_time": "2022-12-06T10:30:32.971Z"
   },
   {
    "duration": 6,
    "start_time": "2022-12-06T10:30:32.978Z"
   },
   {
    "duration": 3,
    "start_time": "2022-12-06T10:30:33.859Z"
   },
   {
    "duration": 7,
    "start_time": "2022-12-06T10:30:33.864Z"
   },
   {
    "duration": 5,
    "start_time": "2022-12-06T10:31:44.441Z"
   },
   {
    "duration": 3,
    "start_time": "2022-12-06T10:31:44.636Z"
   },
   {
    "duration": 8,
    "start_time": "2022-12-06T10:31:44.641Z"
   },
   {
    "duration": 26,
    "start_time": "2022-12-06T10:31:44.687Z"
   },
   {
    "duration": 2,
    "start_time": "2022-12-06T10:31:44.715Z"
   },
   {
    "duration": 11,
    "start_time": "2022-12-06T10:31:44.719Z"
   },
   {
    "duration": 10,
    "start_time": "2022-12-06T10:31:44.734Z"
   },
   {
    "duration": 4,
    "start_time": "2022-12-06T10:31:44.746Z"
   },
   {
    "duration": 10,
    "start_time": "2022-12-06T10:31:44.751Z"
   },
   {
    "duration": 13,
    "start_time": "2022-12-06T10:31:44.943Z"
   },
   {
    "duration": 90,
    "start_time": "2022-12-06T10:31:44.958Z"
   },
   {
    "duration": 0,
    "start_time": "2022-12-06T10:31:45.050Z"
   },
   {
    "duration": 4,
    "start_time": "2022-12-06T10:31:45.165Z"
   },
   {
    "duration": 6,
    "start_time": "2022-12-06T10:31:45.171Z"
   },
   {
    "duration": 7,
    "start_time": "2022-12-06T10:31:45.179Z"
   },
   {
    "duration": 5,
    "start_time": "2022-12-06T10:31:45.187Z"
   },
   {
    "duration": 5,
    "start_time": "2022-12-06T10:31:45.194Z"
   },
   {
    "duration": 12,
    "start_time": "2022-12-06T10:33:46.801Z"
   },
   {
    "duration": 4,
    "start_time": "2022-12-06T10:47:21.865Z"
   },
   {
    "duration": 86,
    "start_time": "2022-12-06T10:51:15.484Z"
   },
   {
    "duration": 92,
    "start_time": "2022-12-06T10:51:16.846Z"
   },
   {
    "duration": 4,
    "start_time": "2022-12-06T10:51:27.109Z"
   },
   {
    "duration": 14,
    "start_time": "2022-12-06T10:51:27.866Z"
   },
   {
    "duration": 5,
    "start_time": "2022-12-06T10:51:52.605Z"
   },
   {
    "duration": 7,
    "start_time": "2022-12-06T10:51:52.612Z"
   },
   {
    "duration": 6,
    "start_time": "2022-12-06T10:51:52.620Z"
   },
   {
    "duration": 31,
    "start_time": "2022-12-06T10:51:52.630Z"
   },
   {
    "duration": 3,
    "start_time": "2022-12-06T10:51:52.663Z"
   },
   {
    "duration": 13,
    "start_time": "2022-12-06T10:51:52.668Z"
   },
   {
    "duration": 14,
    "start_time": "2022-12-06T10:51:52.693Z"
   },
   {
    "duration": 5,
    "start_time": "2022-12-06T10:51:52.710Z"
   },
   {
    "duration": 11,
    "start_time": "2022-12-06T10:51:52.717Z"
   },
   {
    "duration": 14,
    "start_time": "2022-12-06T10:51:52.729Z"
   },
   {
    "duration": 6,
    "start_time": "2022-12-06T10:51:52.745Z"
   },
   {
    "duration": 5,
    "start_time": "2022-12-06T10:51:52.754Z"
   },
   {
    "duration": 4,
    "start_time": "2022-12-06T10:51:52.761Z"
   },
   {
    "duration": 7,
    "start_time": "2022-12-06T10:51:52.767Z"
   },
   {
    "duration": 4,
    "start_time": "2022-12-06T10:51:52.806Z"
   },
   {
    "duration": 6,
    "start_time": "2022-12-06T10:51:52.834Z"
   },
   {
    "duration": 26,
    "start_time": "2022-12-06T10:51:52.842Z"
   },
   {
    "duration": 0,
    "start_time": "2022-12-06T10:51:52.870Z"
   },
   {
    "duration": 5,
    "start_time": "2022-12-06T10:53:45.564Z"
   },
   {
    "duration": 14,
    "start_time": "2022-12-06T10:53:46.521Z"
   },
   {
    "duration": 5,
    "start_time": "2022-12-06T10:53:59.805Z"
   },
   {
    "duration": 15,
    "start_time": "2022-12-06T10:54:36.884Z"
   },
   {
    "duration": 5,
    "start_time": "2022-12-06T10:54:46.013Z"
   },
   {
    "duration": 15,
    "start_time": "2022-12-06T10:55:34.773Z"
   },
   {
    "duration": 16,
    "start_time": "2022-12-06T10:56:47.750Z"
   },
   {
    "duration": 10,
    "start_time": "2022-12-06T11:00:54.773Z"
   },
   {
    "duration": 7,
    "start_time": "2022-12-06T11:01:01.884Z"
   },
   {
    "duration": 10,
    "start_time": "2022-12-06T11:01:08.468Z"
   },
   {
    "duration": 5,
    "start_time": "2022-12-06T11:01:21.597Z"
   },
   {
    "duration": 4,
    "start_time": "2022-12-06T11:02:30.113Z"
   },
   {
    "duration": 19,
    "start_time": "2022-12-06T11:02:30.121Z"
   },
   {
    "duration": 29,
    "start_time": "2022-12-06T11:02:30.143Z"
   },
   {
    "duration": 65,
    "start_time": "2022-12-06T11:02:30.174Z"
   },
   {
    "duration": 3,
    "start_time": "2022-12-06T11:02:30.241Z"
   },
   {
    "duration": 13,
    "start_time": "2022-12-06T11:02:30.246Z"
   },
   {
    "duration": 35,
    "start_time": "2022-12-06T11:02:30.260Z"
   },
   {
    "duration": 20,
    "start_time": "2022-12-06T11:02:30.297Z"
   },
   {
    "duration": 16,
    "start_time": "2022-12-06T11:02:30.318Z"
   },
   {
    "duration": 33,
    "start_time": "2022-12-06T11:02:30.336Z"
   },
   {
    "duration": 5,
    "start_time": "2022-12-06T11:02:30.370Z"
   },
   {
    "duration": 7,
    "start_time": "2022-12-06T11:02:30.377Z"
   },
   {
    "duration": 13,
    "start_time": "2022-12-06T11:02:30.386Z"
   },
   {
    "duration": 7,
    "start_time": "2022-12-06T11:02:30.400Z"
   },
   {
    "duration": 13,
    "start_time": "2022-12-06T11:02:30.409Z"
   },
   {
    "duration": 7,
    "start_time": "2022-12-06T11:02:30.424Z"
   },
   {
    "duration": 7,
    "start_time": "2022-12-06T11:02:30.432Z"
   },
   {
    "duration": 15,
    "start_time": "2022-12-06T11:02:30.440Z"
   },
   {
    "duration": 24,
    "start_time": "2022-12-06T11:02:30.457Z"
   },
   {
    "duration": 4,
    "start_time": "2022-12-06T11:02:30.512Z"
   },
   {
    "duration": 18,
    "start_time": "2022-12-06T11:03:05.993Z"
   },
   {
    "duration": 17,
    "start_time": "2022-12-06T11:05:09.738Z"
   },
   {
    "duration": 4,
    "start_time": "2022-12-06T11:19:10.688Z"
   },
   {
    "duration": 85,
    "start_time": "2022-12-06T11:19:58.166Z"
   },
   {
    "duration": 4,
    "start_time": "2022-12-06T11:21:17.308Z"
   },
   {
    "duration": 84,
    "start_time": "2022-12-06T11:21:26.041Z"
   },
   {
    "duration": 18,
    "start_time": "2022-12-06T11:21:29.611Z"
   },
   {
    "duration": 95,
    "start_time": "2022-12-06T11:22:38.986Z"
   },
   {
    "duration": 10,
    "start_time": "2022-12-06T11:22:53.800Z"
   },
   {
    "duration": 11,
    "start_time": "2022-12-06T11:23:01.337Z"
   },
   {
    "duration": 5,
    "start_time": "2022-12-06T11:23:12.895Z"
   },
   {
    "duration": 91,
    "start_time": "2022-12-06T11:23:20.042Z"
   },
   {
    "duration": 15,
    "start_time": "2022-12-06T11:23:34.737Z"
   },
   {
    "duration": 16,
    "start_time": "2022-12-06T11:23:48.786Z"
   },
   {
    "duration": 61,
    "start_time": "2022-12-06T11:25:09.145Z"
   },
   {
    "duration": 87,
    "start_time": "2022-12-06T11:25:27.322Z"
   },
   {
    "duration": 77,
    "start_time": "2022-12-06T11:25:32.207Z"
   },
   {
    "duration": 10,
    "start_time": "2022-12-06T11:25:48.202Z"
   },
   {
    "duration": 12,
    "start_time": "2022-12-06T11:26:20.083Z"
   },
   {
    "duration": 10,
    "start_time": "2022-12-06T11:26:56.302Z"
   },
   {
    "duration": 4,
    "start_time": "2022-12-06T11:26:59.747Z"
   },
   {
    "duration": 16,
    "start_time": "2022-12-06T11:27:27.767Z"
   },
   {
    "duration": 104,
    "start_time": "2022-12-06T11:29:33.103Z"
   },
   {
    "duration": 4,
    "start_time": "2022-12-06T11:29:59.144Z"
   },
   {
    "duration": 4,
    "start_time": "2022-12-06T11:30:01.340Z"
   },
   {
    "duration": 5,
    "start_time": "2022-12-06T11:30:09.924Z"
   },
   {
    "duration": 10,
    "start_time": "2022-12-06T11:30:20.369Z"
   },
   {
    "duration": 14,
    "start_time": "2022-12-06T11:30:35.934Z"
   },
   {
    "duration": 9,
    "start_time": "2022-12-06T12:16:08.353Z"
   },
   {
    "duration": 8,
    "start_time": "2022-12-06T12:19:15.962Z"
   },
   {
    "duration": 11,
    "start_time": "2022-12-06T13:50:26.443Z"
   },
   {
    "duration": 5,
    "start_time": "2022-12-06T13:52:27.324Z"
   },
   {
    "duration": 9,
    "start_time": "2022-12-06T14:01:23.254Z"
   },
   {
    "duration": 4,
    "start_time": "2022-12-06T14:01:31.134Z"
   },
   {
    "duration": 21,
    "start_time": "2022-12-06T14:01:34.160Z"
   },
   {
    "duration": 13,
    "start_time": "2022-12-06T14:01:47.370Z"
   },
   {
    "duration": 10,
    "start_time": "2022-12-06T14:01:59.258Z"
   },
   {
    "duration": 13,
    "start_time": "2022-12-06T14:03:22.604Z"
   },
   {
    "duration": 4,
    "start_time": "2022-12-06T14:03:26.187Z"
   },
   {
    "duration": 3,
    "start_time": "2022-12-06T14:03:26.205Z"
   },
   {
    "duration": 28,
    "start_time": "2022-12-06T14:03:26.230Z"
   },
   {
    "duration": 3,
    "start_time": "2022-12-06T14:03:26.301Z"
   },
   {
    "duration": 15,
    "start_time": "2022-12-06T14:03:26.305Z"
   },
   {
    "duration": 19,
    "start_time": "2022-12-06T14:03:26.322Z"
   },
   {
    "duration": 4,
    "start_time": "2022-12-06T14:03:26.346Z"
   },
   {
    "duration": 34,
    "start_time": "2022-12-06T14:03:26.352Z"
   },
   {
    "duration": 7,
    "start_time": "2022-12-06T14:03:26.388Z"
   },
   {
    "duration": 11,
    "start_time": "2022-12-06T14:03:26.397Z"
   },
   {
    "duration": 8,
    "start_time": "2022-12-06T14:03:26.410Z"
   },
   {
    "duration": 9,
    "start_time": "2022-12-06T14:03:26.421Z"
   },
   {
    "duration": 44,
    "start_time": "2022-12-06T14:03:26.462Z"
   },
   {
    "duration": 112,
    "start_time": "2022-12-06T14:03:26.509Z"
   },
   {
    "duration": 192,
    "start_time": "2022-12-06T14:03:26.624Z"
   },
   {
    "duration": 10,
    "start_time": "2022-12-06T14:03:26.818Z"
   },
   {
    "duration": 4,
    "start_time": "2022-12-06T14:03:48.890Z"
   },
   {
    "duration": 2,
    "start_time": "2022-12-06T14:03:48.908Z"
   },
   {
    "duration": 30,
    "start_time": "2022-12-06T14:03:48.915Z"
   },
   {
    "duration": 2,
    "start_time": "2022-12-06T14:03:48.947Z"
   },
   {
    "duration": 16,
    "start_time": "2022-12-06T14:03:48.950Z"
   },
   {
    "duration": 14,
    "start_time": "2022-12-06T14:03:48.969Z"
   },
   {
    "duration": 5,
    "start_time": "2022-12-06T14:03:48.985Z"
   },
   {
    "duration": 21,
    "start_time": "2022-12-06T14:03:48.992Z"
   },
   {
    "duration": 6,
    "start_time": "2022-12-06T14:03:49.014Z"
   },
   {
    "duration": 8,
    "start_time": "2022-12-06T14:03:49.021Z"
   },
   {
    "duration": 4,
    "start_time": "2022-12-06T14:03:49.065Z"
   },
   {
    "duration": 5,
    "start_time": "2022-12-06T14:03:49.099Z"
   },
   {
    "duration": 101,
    "start_time": "2022-12-06T14:03:49.106Z"
   },
   {
    "duration": 101,
    "start_time": "2022-12-06T14:03:49.209Z"
   },
   {
    "duration": 198,
    "start_time": "2022-12-06T14:03:49.315Z"
   },
   {
    "duration": 12,
    "start_time": "2022-12-06T14:03:49.515Z"
   },
   {
    "duration": 10,
    "start_time": "2022-12-06T14:04:07.443Z"
   },
   {
    "duration": 7,
    "start_time": "2022-12-06T14:04:40.332Z"
   },
   {
    "duration": 4,
    "start_time": "2022-12-06T14:06:39.289Z"
   },
   {
    "duration": 8,
    "start_time": "2022-12-06T14:09:43.013Z"
   },
   {
    "duration": 10,
    "start_time": "2022-12-06T14:10:48.798Z"
   },
   {
    "duration": 72,
    "start_time": "2022-12-06T14:12:25.557Z"
   },
   {
    "duration": 3,
    "start_time": "2022-12-06T14:12:29.656Z"
   },
   {
    "duration": 18,
    "start_time": "2022-12-06T14:12:29.661Z"
   },
   {
    "duration": 38,
    "start_time": "2022-12-06T14:12:29.681Z"
   },
   {
    "duration": 3,
    "start_time": "2022-12-06T14:12:29.720Z"
   },
   {
    "duration": 24,
    "start_time": "2022-12-06T14:12:29.725Z"
   },
   {
    "duration": 26,
    "start_time": "2022-12-06T14:12:29.750Z"
   },
   {
    "duration": 16,
    "start_time": "2022-12-06T14:12:29.781Z"
   },
   {
    "duration": 24,
    "start_time": "2022-12-06T14:12:29.799Z"
   },
   {
    "duration": 12,
    "start_time": "2022-12-06T14:12:29.824Z"
   },
   {
    "duration": 20,
    "start_time": "2022-12-06T14:12:29.837Z"
   },
   {
    "duration": 22,
    "start_time": "2022-12-06T14:12:29.859Z"
   },
   {
    "duration": 26,
    "start_time": "2022-12-06T14:12:29.882Z"
   },
   {
    "duration": 23,
    "start_time": "2022-12-06T14:12:29.910Z"
   },
   {
    "duration": 76,
    "start_time": "2022-12-06T14:12:29.936Z"
   },
   {
    "duration": 245,
    "start_time": "2022-12-06T14:12:30.014Z"
   },
   {
    "duration": 35,
    "start_time": "2022-12-06T14:12:30.261Z"
   },
   {
    "duration": 214,
    "start_time": "2022-12-06T14:12:30.298Z"
   },
   {
    "duration": 3,
    "start_time": "2022-12-06T14:21:28.741Z"
   },
   {
    "duration": 3,
    "start_time": "2022-12-06T14:21:44.236Z"
   },
   {
    "duration": 7,
    "start_time": "2022-12-06T14:23:20.805Z"
   },
   {
    "duration": 6,
    "start_time": "2022-12-06T14:23:43.432Z"
   },
   {
    "duration": 69,
    "start_time": "2022-12-06T14:24:10.362Z"
   },
   {
    "duration": 7,
    "start_time": "2022-12-06T14:24:16.350Z"
   },
   {
    "duration": 4,
    "start_time": "2022-12-06T14:27:17.506Z"
   },
   {
    "duration": 4,
    "start_time": "2022-12-06T14:33:19.035Z"
   },
   {
    "duration": 10,
    "start_time": "2022-12-06T14:33:48.225Z"
   },
   {
    "duration": 3,
    "start_time": "2022-12-06T14:33:52.077Z"
   },
   {
    "duration": 1103,
    "start_time": "2022-12-06T14:33:52.424Z"
   },
   {
    "duration": 4,
    "start_time": "2022-12-06T14:37:36.304Z"
   },
   {
    "duration": 1098,
    "start_time": "2022-12-06T14:37:36.929Z"
   },
   {
    "duration": 4,
    "start_time": "2022-12-06T14:38:25.767Z"
   },
   {
    "duration": 1128,
    "start_time": "2022-12-06T14:38:27.775Z"
   },
   {
    "duration": 12,
    "start_time": "2022-12-06T14:39:35.431Z"
   },
   {
    "duration": 1114,
    "start_time": "2022-12-06T14:39:48.061Z"
   },
   {
    "duration": 4,
    "start_time": "2022-12-06T14:40:42.733Z"
   },
   {
    "duration": 1302,
    "start_time": "2022-12-06T14:40:43.363Z"
   },
   {
    "duration": 16,
    "start_time": "2022-12-06T14:41:32.375Z"
   },
   {
    "duration": 4,
    "start_time": "2022-12-06T14:41:57.687Z"
   },
   {
    "duration": 9,
    "start_time": "2022-12-06T14:41:58.750Z"
   },
   {
    "duration": 3,
    "start_time": "2022-12-06T14:42:30.796Z"
   },
   {
    "duration": 4,
    "start_time": "2022-12-06T14:42:35.263Z"
   },
   {
    "duration": 10,
    "start_time": "2022-12-06T14:43:04.113Z"
   },
   {
    "duration": 5,
    "start_time": "2022-12-06T14:43:28.732Z"
   },
   {
    "duration": 5,
    "start_time": "2022-12-06T14:43:55.156Z"
   },
   {
    "duration": 13,
    "start_time": "2022-12-06T14:44:14.011Z"
   },
   {
    "duration": 12,
    "start_time": "2022-12-06T14:44:22.070Z"
   },
   {
    "duration": 4,
    "start_time": "2022-12-06T14:44:27.135Z"
   },
   {
    "duration": 5,
    "start_time": "2022-12-06T14:44:27.141Z"
   },
   {
    "duration": 27,
    "start_time": "2022-12-06T14:44:27.150Z"
   },
   {
    "duration": 2,
    "start_time": "2022-12-06T14:44:27.179Z"
   },
   {
    "duration": 13,
    "start_time": "2022-12-06T14:44:27.183Z"
   },
   {
    "duration": 12,
    "start_time": "2022-12-06T14:44:27.197Z"
   },
   {
    "duration": 3,
    "start_time": "2022-12-06T14:44:27.210Z"
   },
   {
    "duration": 15,
    "start_time": "2022-12-06T14:44:27.215Z"
   },
   {
    "duration": 5,
    "start_time": "2022-12-06T14:44:27.232Z"
   },
   {
    "duration": 3,
    "start_time": "2022-12-06T14:44:27.239Z"
   },
   {
    "duration": 5,
    "start_time": "2022-12-06T14:44:27.243Z"
   },
   {
    "duration": 9,
    "start_time": "2022-12-06T14:44:27.250Z"
   },
   {
    "duration": 50,
    "start_time": "2022-12-06T14:44:27.260Z"
   },
   {
    "duration": 194,
    "start_time": "2022-12-06T14:44:27.312Z"
   },
   {
    "duration": 112,
    "start_time": "2022-12-06T14:44:27.508Z"
   },
   {
    "duration": 10,
    "start_time": "2022-12-06T14:44:27.622Z"
   },
   {
    "duration": 180,
    "start_time": "2022-12-06T14:44:27.634Z"
   },
   {
    "duration": 8,
    "start_time": "2022-12-06T14:44:27.816Z"
   },
   {
    "duration": 5,
    "start_time": "2022-12-06T14:44:27.826Z"
   },
   {
    "duration": 17,
    "start_time": "2022-12-06T14:44:27.832Z"
   },
   {
    "duration": 0,
    "start_time": "2022-12-06T14:44:27.851Z"
   },
   {
    "duration": 12,
    "start_time": "2022-12-06T14:44:42.286Z"
   },
   {
    "duration": 1263,
    "start_time": "2022-12-06T14:44:51.699Z"
   },
   {
    "duration": 1135,
    "start_time": "2022-12-06T14:45:10.828Z"
   },
   {
    "duration": 1376,
    "start_time": "2022-12-06T15:20:24.180Z"
   },
   {
    "duration": 3,
    "start_time": "2022-12-06T15:27:29.160Z"
   },
   {
    "duration": 72,
    "start_time": "2022-12-06T15:28:34.209Z"
   },
   {
    "duration": 68,
    "start_time": "2022-12-06T15:28:50.842Z"
   },
   {
    "duration": 68,
    "start_time": "2022-12-06T15:29:04.765Z"
   },
   {
    "duration": 1713,
    "start_time": "2022-12-06T15:30:02.192Z"
   },
   {
    "duration": 152,
    "start_time": "2022-12-06T15:30:13.045Z"
   },
   {
    "duration": 116,
    "start_time": "2022-12-06T15:30:29.292Z"
   },
   {
    "duration": 128,
    "start_time": "2022-12-06T15:30:51.112Z"
   },
   {
    "duration": 89,
    "start_time": "2022-12-06T15:31:01.250Z"
   },
   {
    "duration": 1214,
    "start_time": "2022-12-06T15:31:30.600Z"
   },
   {
    "duration": 81,
    "start_time": "2022-12-06T15:32:17.760Z"
   },
   {
    "duration": 11,
    "start_time": "2022-12-06T15:35:19.888Z"
   },
   {
    "duration": 568,
    "start_time": "2022-12-06T15:36:12.485Z"
   },
   {
    "duration": 96,
    "start_time": "2022-12-06T15:36:14.908Z"
   },
   {
    "duration": 73,
    "start_time": "2022-12-06T15:36:19.939Z"
   },
   {
    "duration": 8,
    "start_time": "2022-12-06T15:36:20.514Z"
   },
   {
    "duration": 7,
    "start_time": "2022-12-06T15:38:11.724Z"
   },
   {
    "duration": 4,
    "start_time": "2022-12-06T15:38:46.958Z"
   },
   {
    "duration": 10,
    "start_time": "2022-12-06T15:39:06.043Z"
   },
   {
    "duration": 14,
    "start_time": "2022-12-06T15:41:00.897Z"
   },
   {
    "duration": 69,
    "start_time": "2022-12-06T15:41:09.374Z"
   },
   {
    "duration": 5020,
    "start_time": "2022-12-06T15:41:13.642Z"
   },
   {
    "duration": 16,
    "start_time": "2022-12-06T15:41:37.348Z"
   },
   {
    "duration": 14,
    "start_time": "2022-12-06T15:41:40.399Z"
   },
   {
    "duration": 75,
    "start_time": "2022-12-06T15:41:52.275Z"
   },
   {
    "duration": 15,
    "start_time": "2022-12-06T15:41:54.968Z"
   },
   {
    "duration": 13,
    "start_time": "2022-12-06T15:44:23.170Z"
   },
   {
    "duration": 11,
    "start_time": "2022-12-06T15:44:29.142Z"
   },
   {
    "duration": 4,
    "start_time": "2022-12-06T15:44:34.313Z"
   },
   {
    "duration": 2,
    "start_time": "2022-12-06T15:44:34.339Z"
   },
   {
    "duration": 27,
    "start_time": "2022-12-06T15:44:34.376Z"
   },
   {
    "duration": 3,
    "start_time": "2022-12-06T15:44:34.507Z"
   },
   {
    "duration": 11,
    "start_time": "2022-12-06T15:44:34.511Z"
   },
   {
    "duration": 12,
    "start_time": "2022-12-06T15:44:34.523Z"
   },
   {
    "duration": 4,
    "start_time": "2022-12-06T15:44:34.571Z"
   },
   {
    "duration": 14,
    "start_time": "2022-12-06T15:44:34.577Z"
   },
   {
    "duration": 5,
    "start_time": "2022-12-06T15:44:34.681Z"
   },
   {
    "duration": 5,
    "start_time": "2022-12-06T15:44:34.849Z"
   },
   {
    "duration": 17,
    "start_time": "2022-12-06T15:44:34.856Z"
   },
   {
    "duration": 3,
    "start_time": "2022-12-06T15:44:34.942Z"
   },
   {
    "duration": 7,
    "start_time": "2022-12-06T15:44:35.171Z"
   },
   {
    "duration": 126,
    "start_time": "2022-12-06T15:44:35.181Z"
   },
   {
    "duration": 109,
    "start_time": "2022-12-06T15:44:35.309Z"
   },
   {
    "duration": 7,
    "start_time": "2022-12-06T15:44:35.470Z"
   },
   {
    "duration": 32,
    "start_time": "2022-12-06T15:44:35.480Z"
   },
   {
    "duration": 107,
    "start_time": "2022-12-06T15:44:35.515Z"
   },
   {
    "duration": 73,
    "start_time": "2022-12-06T15:44:35.648Z"
   },
   {
    "duration": 9,
    "start_time": "2022-12-06T15:44:35.723Z"
   },
   {
    "duration": 101,
    "start_time": "2022-12-06T15:44:35.807Z"
   },
   {
    "duration": 15,
    "start_time": "2022-12-06T15:44:35.910Z"
   },
   {
    "duration": 3,
    "start_time": "2022-12-06T15:44:35.928Z"
   },
   {
    "duration": 4,
    "start_time": "2022-12-06T15:46:33.642Z"
   },
   {
    "duration": 5,
    "start_time": "2022-12-06T15:46:49.598Z"
   },
   {
    "duration": 91,
    "start_time": "2022-12-06T15:48:07.957Z"
   },
   {
    "duration": 4,
    "start_time": "2022-12-06T15:48:35.909Z"
   },
   {
    "duration": 86,
    "start_time": "2022-12-06T15:48:54.401Z"
   },
   {
    "duration": 5,
    "start_time": "2022-12-06T15:49:49.686Z"
   },
   {
    "duration": 4399,
    "start_time": "2022-12-06T15:50:27.871Z"
   },
   {
    "duration": 12,
    "start_time": "2022-12-06T15:50:36.416Z"
   },
   {
    "duration": 4,
    "start_time": "2022-12-06T15:50:38.430Z"
   },
   {
    "duration": 1226,
    "start_time": "2022-12-06T15:51:46.356Z"
   },
   {
    "duration": 7,
    "start_time": "2022-12-06T15:52:41.561Z"
   },
   {
    "duration": 4384,
    "start_time": "2022-12-06T15:53:57.350Z"
   },
   {
    "duration": 71,
    "start_time": "2022-12-06T15:54:01.736Z"
   },
   {
    "duration": 4394,
    "start_time": "2022-12-06T15:54:33.845Z"
   },
   {
    "duration": 88,
    "start_time": "2022-12-06T15:55:43.811Z"
   },
   {
    "duration": 15,
    "start_time": "2022-12-06T15:55:51.400Z"
   },
   {
    "duration": 208,
    "start_time": "2022-12-06T15:57:57.435Z"
   },
   {
    "duration": 9,
    "start_time": "2022-12-06T15:58:02.979Z"
   },
   {
    "duration": 3,
    "start_time": "2022-12-06T15:58:06.282Z"
   },
   {
    "duration": 11,
    "start_time": "2022-12-06T15:58:13.635Z"
   },
   {
    "duration": 178,
    "start_time": "2022-12-06T15:59:46.938Z"
   },
   {
    "duration": 6,
    "start_time": "2022-12-06T15:59:48.011Z"
   },
   {
    "duration": 4,
    "start_time": "2022-12-06T15:59:50.854Z"
   },
   {
    "duration": 10,
    "start_time": "2022-12-06T16:01:01.333Z"
   },
   {
    "duration": 1110,
    "start_time": "2022-12-06T16:02:39.042Z"
   },
   {
    "duration": 1682,
    "start_time": "2022-12-06T16:04:05.995Z"
   },
   {
    "duration": 7,
    "start_time": "2022-12-06T16:04:11.167Z"
   },
   {
    "duration": 5,
    "start_time": "2022-12-06T16:04:14.733Z"
   },
   {
    "duration": 4,
    "start_time": "2022-12-06T16:05:35.877Z"
   },
   {
    "duration": 1478,
    "start_time": "2022-12-06T16:05:45.935Z"
   },
   {
    "duration": 1453,
    "start_time": "2022-12-06T16:06:33.396Z"
   },
   {
    "duration": 11,
    "start_time": "2022-12-06T16:06:46.435Z"
   },
   {
    "duration": 5,
    "start_time": "2022-12-06T16:06:53.035Z"
   },
   {
    "duration": 4,
    "start_time": "2022-12-06T16:07:07.636Z"
   },
   {
    "duration": 4,
    "start_time": "2022-12-06T16:07:50.166Z"
   },
   {
    "duration": 18,
    "start_time": "2022-12-06T16:07:50.176Z"
   },
   {
    "duration": 43,
    "start_time": "2022-12-06T16:07:50.197Z"
   },
   {
    "duration": 3,
    "start_time": "2022-12-06T16:07:50.241Z"
   },
   {
    "duration": 18,
    "start_time": "2022-12-06T16:07:50.246Z"
   },
   {
    "duration": 38,
    "start_time": "2022-12-06T16:07:50.265Z"
   },
   {
    "duration": 12,
    "start_time": "2022-12-06T16:07:50.304Z"
   },
   {
    "duration": 16,
    "start_time": "2022-12-06T16:07:50.317Z"
   },
   {
    "duration": 4,
    "start_time": "2022-12-06T16:07:50.335Z"
   },
   {
    "duration": 4,
    "start_time": "2022-12-06T16:07:50.341Z"
   },
   {
    "duration": 5,
    "start_time": "2022-12-06T16:07:50.346Z"
   },
   {
    "duration": 11,
    "start_time": "2022-12-06T16:07:50.353Z"
   },
   {
    "duration": 40,
    "start_time": "2022-12-06T16:07:50.365Z"
   },
   {
    "duration": 109,
    "start_time": "2022-12-06T16:07:50.407Z"
   },
   {
    "duration": 190,
    "start_time": "2022-12-06T16:07:50.518Z"
   },
   {
    "duration": 9,
    "start_time": "2022-12-06T16:07:50.709Z"
   },
   {
    "duration": 98,
    "start_time": "2022-12-06T16:07:50.720Z"
   },
   {
    "duration": 1709,
    "start_time": "2022-12-06T16:07:50.819Z"
   },
   {
    "duration": 76,
    "start_time": "2022-12-06T16:07:52.530Z"
   },
   {
    "duration": 103,
    "start_time": "2022-12-06T16:07:52.608Z"
   },
   {
    "duration": 7,
    "start_time": "2022-12-06T16:07:52.713Z"
   },
   {
    "duration": 4,
    "start_time": "2022-12-06T16:17:06.647Z"
   },
   {
    "duration": 4,
    "start_time": "2022-12-06T16:18:22.638Z"
   },
   {
    "duration": 3449,
    "start_time": "2022-12-06T16:22:21.642Z"
   },
   {
    "duration": 3526,
    "start_time": "2022-12-06T16:22:37.354Z"
   },
   {
    "duration": 1371,
    "start_time": "2022-12-06T16:33:51.072Z"
   },
   {
    "duration": 2,
    "start_time": "2022-12-06T16:33:52.446Z"
   },
   {
    "duration": 38,
    "start_time": "2022-12-06T16:33:52.450Z"
   },
   {
    "duration": 2,
    "start_time": "2022-12-06T16:33:52.490Z"
   },
   {
    "duration": 21,
    "start_time": "2022-12-06T16:33:52.494Z"
   },
   {
    "duration": 13,
    "start_time": "2022-12-06T16:33:52.516Z"
   },
   {
    "duration": 4,
    "start_time": "2022-12-06T16:33:52.530Z"
   },
   {
    "duration": 4342,
    "start_time": "2022-12-06T16:33:52.536Z"
   },
   {
    "duration": 25,
    "start_time": "2022-12-06T16:33:56.880Z"
   },
   {
    "duration": 4,
    "start_time": "2022-12-06T16:33:56.908Z"
   },
   {
    "duration": 4,
    "start_time": "2022-12-06T16:33:56.914Z"
   },
   {
    "duration": 5,
    "start_time": "2022-12-06T16:33:56.919Z"
   },
   {
    "duration": 4,
    "start_time": "2022-12-06T16:33:56.925Z"
   },
   {
    "duration": 74,
    "start_time": "2022-12-06T16:33:56.930Z"
   },
   {
    "duration": 100,
    "start_time": "2022-12-06T16:33:57.012Z"
   },
   {
    "duration": 200,
    "start_time": "2022-12-06T16:33:57.114Z"
   },
   {
    "duration": 71,
    "start_time": "2022-12-06T16:33:57.316Z"
   },
   {
    "duration": 117,
    "start_time": "2022-12-06T16:33:57.390Z"
   },
   {
    "duration": 2004,
    "start_time": "2022-12-06T16:33:57.509Z"
   },
   {
    "duration": 91,
    "start_time": "2022-12-06T16:33:59.515Z"
   },
   {
    "duration": 5,
    "start_time": "2022-12-06T16:33:59.608Z"
   },
   {
    "duration": 6,
    "start_time": "2022-12-06T16:33:59.614Z"
   },
   {
    "duration": 5,
    "start_time": "2022-12-06T16:33:59.622Z"
   },
   {
    "duration": 4,
    "start_time": "2022-12-06T16:36:21.666Z"
   },
   {
    "duration": 16156,
    "start_time": "2022-12-06T16:36:21.672Z"
   },
   {
    "duration": 29,
    "start_time": "2022-12-06T16:36:37.829Z"
   },
   {
    "duration": 7296,
    "start_time": "2022-12-06T16:36:37.859Z"
   },
   {
    "duration": 8,
    "start_time": "2022-12-06T16:36:45.157Z"
   },
   {
    "duration": 46,
    "start_time": "2022-12-06T16:36:45.167Z"
   },
   {
    "duration": 36,
    "start_time": "2022-12-06T16:36:45.214Z"
   },
   {
    "duration": 3664,
    "start_time": "2022-12-06T16:36:45.252Z"
   },
   {
    "duration": 12,
    "start_time": "2022-12-06T16:36:48.919Z"
   },
   {
    "duration": 103,
    "start_time": "2022-12-06T16:36:48.932Z"
   },
   {
    "duration": 74,
    "start_time": "2022-12-06T16:36:49.037Z"
   },
   {
    "duration": 38,
    "start_time": "2022-12-06T16:36:49.115Z"
   },
   {
    "duration": 52,
    "start_time": "2022-12-06T16:36:49.155Z"
   },
   {
    "duration": 96,
    "start_time": "2022-12-06T16:36:49.209Z"
   },
   {
    "duration": 194,
    "start_time": "2022-12-06T16:36:49.310Z"
   },
   {
    "duration": 167,
    "start_time": "2022-12-06T16:36:49.507Z"
   },
   {
    "duration": 108,
    "start_time": "2022-12-06T16:36:49.676Z"
   },
   {
    "duration": 119,
    "start_time": "2022-12-06T16:36:49.786Z"
   },
   {
    "duration": 1529,
    "start_time": "2022-12-06T16:36:49.909Z"
   },
   {
    "duration": 6,
    "start_time": "2022-12-06T16:36:51.505Z"
   },
   {
    "duration": 108,
    "start_time": "2022-12-06T16:36:51.513Z"
   },
   {
    "duration": 12,
    "start_time": "2022-12-06T16:36:51.623Z"
   },
   {
    "duration": 11,
    "start_time": "2022-12-06T16:36:51.636Z"
   }
  ],
  "kernelspec": {
   "display_name": "Python 3 (ipykernel)",
   "language": "python",
   "name": "python3"
  },
  "language_info": {
   "codemirror_mode": {
    "name": "ipython",
    "version": 3
   },
   "file_extension": ".py",
   "mimetype": "text/x-python",
   "name": "python",
   "nbconvert_exporter": "python",
   "pygments_lexer": "ipython3",
   "version": "3.9.7"
  },
  "toc": {
   "base_numbering": 1,
   "nav_menu": {},
   "number_sections": true,
   "sideBar": true,
   "skip_h1_title": true,
   "title_cell": "Содержание",
   "title_sidebar": "Contents",
   "toc_cell": true,
   "toc_position": {
    "height": "calc(100% - 180px)",
    "left": "10px",
    "top": "150px",
    "width": "285.75px"
   },
   "toc_section_display": true,
   "toc_window_display": true
  },
  "widgets": {
   "application/vnd.jupyter.widget-state+json": {
    "state": {},
    "version_major": 2,
    "version_minor": 0
   }
  }
 },
 "nbformat": 4,
 "nbformat_minor": 2
}
